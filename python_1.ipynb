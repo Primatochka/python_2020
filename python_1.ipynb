{
 "cells": [
  {
   "cell_type": "markdown",
   "metadata": {},
   "source": [
    "Задание 1\n",
    "Даны 2 переменных, в которых хранятся строки произвольной длины: phrase_1 и phrase_2.\n",
    "Напишите код, который проверяет какая из этих строк длиннее."
   ]
  },
  {
   "cell_type": "code",
   "execution_count": 8,
   "metadata": {},
   "outputs": [],
   "source": [
    "phrase_1 = 'Насколько проще быо бы писать прогаммы, если бы не заказчики'\n",
    "phrase_2 = '640Кб должно хватить для любых задач. Билл Гейтс (по легенде)'"
   ]
  },
  {
   "cell_type": "code",
   "execution_count": 9,
   "metadata": {},
   "outputs": [],
   "source": [
    "len_1 = len(phrase_1)\n",
    "len_2 = len(phrase_2)"
   ]
  },
  {
   "cell_type": "code",
   "execution_count": 10,
   "metadata": {},
   "outputs": [
    {
     "name": "stdout",
     "output_type": "stream",
     "text": [
      "Фраза 2 длиннее фразы 1\n"
     ]
    }
   ],
   "source": [
    "if len_1 > len_2:\n",
    "    print('Фраза 1 длиннее фразы 2')\n",
    "elif len_1 < len_2:\n",
    "    print('Фраза 2 длиннее фразы 1')\n",
    "elif len_1 == len_2:\n",
    "    print('Фразы равной длинны')"
   ]
  },
  {
   "cell_type": "markdown",
   "metadata": {},
   "source": [
    "Задание 2\n",
    "Дана переменная, в которой хранится четырехзначное число (год). Необходимо написать программу, которая выведет, является ли данный год високосным или обычным."
   ]
  },
  {
   "cell_type": "code",
   "execution_count": 23,
   "metadata": {},
   "outputs": [],
   "source": [
    "year = 2023"
   ]
  },
  {
   "cell_type": "code",
   "execution_count": 24,
   "metadata": {},
   "outputs": [
    {
     "name": "stdout",
     "output_type": "stream",
     "text": [
      "Обычный год\n"
     ]
    }
   ],
   "source": [
    "year_type = year % 4\n",
    "if year_type == 0:\n",
    "    print('Високосный год')\n",
    "else:\n",
    "    print('Обычный год')"
   ]
  },
  {
   "cell_type": "markdown",
   "metadata": {},
   "source": [
    "Задание 3\n",
    "Необходимо написать программу, которая будет запрашивать у пользователя месяц и дату рождения и выводить соответствующий знак зодиака."
   ]
  },
  {
   "cell_type": "code",
   "execution_count": 30,
   "metadata": {},
   "outputs": [
    {
     "name": "stdout",
     "output_type": "stream",
     "text": [
      "Введите день: \n",
      "31\n",
      "Введите месяц:\n",
      "январь\n"
     ]
    }
   ],
   "source": [
    "print('Введите день: ')\n",
    "day = int(input())\n",
    "print('Введите месяц:')\n",
    "month = input()"
   ]
  },
  {
   "cell_type": "code",
   "execution_count": 31,
   "metadata": {},
   "outputs": [
    {
     "name": "stdout",
     "output_type": "stream",
     "text": [
      "Ваш знак зодиака: Водолей\n"
     ]
    }
   ],
   "source": [
    "if month == 'Март' or month == 'март' or month == '3':\n",
    "    if day >= 21:\n",
    "        print('Ваш знак зодиака: Овен')\n",
    "    else:\n",
    "        print('Ваш знак зодиака: Рыбы')\n",
    "elif month == 'Апрель' or month == 'апрель' or month == '4':\n",
    "    if day >= 21:\n",
    "        print('Ваш знак зодиака: Телец')\n",
    "    else:\n",
    "        print('Ваш знак зодиака: Овен')\n",
    "elif month == 'Май' or month == 'май' or month == '5':\n",
    "    if day >= 22:\n",
    "        print('Ваш знак зодиака: Близнецы')\n",
    "    else:\n",
    "        print('Ваш знак зодиака: Телец')\n",
    "elif month == 'Июнь' or month == 'июнь' or month == '6':\n",
    "    if day >= 22:\n",
    "        print('Ваш знак зодиака: Рак')\n",
    "    else:\n",
    "        print('Ваш знак зодиака: Близнецы')\n",
    "elif month == 'Июль' or month == 'июль' or month == '7':\n",
    "    if day >= 23:\n",
    "        print('Ваш знак зодиака: Лев')\n",
    "    else:\n",
    "        print('Ваш знак зодиака: Рак')\n",
    "elif month == 'Август' or month == 'август' or month == '8':\n",
    "    if day >= 24:\n",
    "        print('Ваш знак зодиака: Дева')\n",
    "    else:\n",
    "        print('Ваш знак зодиака: Лев')\n",
    "elif month == 'Сентябрь' or month == 'сентябрь' or month == '9':\n",
    "    if day >= 24:\n",
    "        print('Ваш знак зодиака: Весы')\n",
    "    else:\n",
    "        print('Ваш знак зодиака: Дева')\n",
    "elif month == 'Октябрь' or month == 'октябрь' or month == '10':\n",
    "    if day >= 24:\n",
    "        print('Ваш знак зодиака: Скорпион')\n",
    "    else:\n",
    "        print('Ваш знак зодиака: Весы')\n",
    "elif month == 'Ноябрь' or month == 'ноябрь' or month == '11':\n",
    "    if day >= 23:\n",
    "        print('Ваш знак зодиака: Стрелец')\n",
    "    else:\n",
    "        print('Ваш знак зодиака: Скорпион')\n",
    "elif month == 'Декабрь' or month == 'декабрь' or month == '12':\n",
    "    if day >= 22:\n",
    "        print('Ваш знак зодиака: Козерог')\n",
    "    else:\n",
    "        print('Ваш знак зодиака: Стрелец')\n",
    "elif month == 'Январь' or month == 'январь' or month == '1':\n",
    "    if day >= 21:\n",
    "        print('Ваш знак зодиака: Водолей')\n",
    "    else:\n",
    "        print('Ваш знак зодиака: Козерог')\n",
    "elif month == 'Февраль' or month == 'февраль' or month == '2':\n",
    "    if day >= 19:\n",
    "        print('Ваш знак зодиака: Рыбы')\n",
    "    else:\n",
    "        print('Ваш знак зодиака: Водолей')"
   ]
  },
  {
   "cell_type": "markdown",
   "metadata": {},
   "source": [
    "Задание 4\n",
    "Вам нужно написать программу для подбора упаковок по размерам товара. Размеры хранятся в переменных (в сантиметрах):"
   ]
  },
  {
   "cell_type": "code",
   "execution_count": 44,
   "metadata": {},
   "outputs": [],
   "source": [
    "width = 10\n",
    "length = 200\n",
    "height = 5"
   ]
  },
  {
   "cell_type": "code",
   "execution_count": 45,
   "metadata": {},
   "outputs": [
    {
     "name": "stdout",
     "output_type": "stream",
     "text": [
      "Стандартная коробка №3\n"
     ]
    }
   ],
   "source": [
    "if length > 200:\n",
    "    print('Упаковка для лыж')\n",
    "elif width < 15 and length < 15 and height < 15:\n",
    "    print('Коробка №1')\n",
    "elif (15 < width < 50) or (15 < length < 50) or (15 < height < 50):\n",
    "    print('Коробка №2')\n",
    "else:\n",
    "    print('Стандартная коробка №3')"
   ]
  },
  {
   "cell_type": "code",
   "execution_count": null,
   "metadata": {},
   "outputs": [],
   "source": []
  }
 ],
 "metadata": {
  "kernelspec": {
   "display_name": "Python 3",
   "language": "python",
   "name": "python3"
  },
  "language_info": {
   "codemirror_mode": {
    "name": "ipython",
    "version": 3
   },
   "file_extension": ".py",
   "mimetype": "text/x-python",
   "name": "python",
   "nbconvert_exporter": "python",
   "pygments_lexer": "ipython3",
   "version": "3.8.3"
  }
 },
 "nbformat": 4,
 "nbformat_minor": 4
}
