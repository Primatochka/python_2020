{
 "cells": [
  {
   "cell_type": "markdown",
   "metadata": {},
   "source": [
    "Задание 1\n",
    "Даны 2 переменных, в которых хранятся строки произвольной длины: phrase_1 и phrase_2.\n",
    "Напишите код, который проверяет какая из этих строк длиннее."
   ]
  },
  {
   "cell_type": "code",
   "execution_count": 8,
   "metadata": {},
   "outputs": [],
   "source": [
    "phrase_1 = 'Насколько проще быо бы писать прогаммы, если бы не заказчики'\n",
    "phrase_2 = '640Кб должно хватить для любых задач. Билл Гейтс (по легенде)'"
   ]
  },
  {
   "cell_type": "code",
   "execution_count": 9,
   "metadata": {},
   "outputs": [],
   "source": [
    "len_1 = len(phrase_1)\n",
    "len_2 = len(phrase_2)"
   ]
  },
  {
   "cell_type": "code",
   "execution_count": 10,
   "metadata": {},
   "outputs": [
    {
     "name": "stdout",
     "output_type": "stream",
     "text": [
      "Фраза 2 длиннее фразы 1\n"
     ]
    }
   ],
   "source": [
    "if len_1 > len_2:\n",
    "    print('Фраза 1 длиннее фразы 2')\n",
    "elif len_1 < len_2:\n",
    "    print('Фраза 2 длиннее фразы 1')\n",
    "elif len_1 == len_2:\n",
    "    print('Фразы равной длинны')"
   ]
  },
  {
   "cell_type": "markdown",
   "metadata": {},
   "source": [
    "Задание 2\n",
    "Дана переменная, в которой хранится четырехзначное число (год). Необходимо написать программу, которая выведет, является ли данный год високосным или обычным."
   ]
  },
  {
   "cell_type": "code",
   "execution_count": 26,
   "metadata": {},
   "outputs": [],
   "source": [
    "year = 2020"
   ]
  },
  {
   "cell_type": "code",
   "execution_count": 27,
   "metadata": {},
   "outputs": [
    {
     "name": "stdout",
     "output_type": "stream",
     "text": [
      "Високосный год\n"
     ]
    }
   ],
   "source": [
    "if (year % 4 == 0 and year % 100 != 0) or year % 400 == 0:\n",
    "    print('Високосный год')\n",
    "else:\n",
    "    print('Обычный год')"
   ]
  },
  {
   "cell_type": "markdown",
   "metadata": {},
   "source": [
    "Задание 3\n",
    "Необходимо написать программу, которая будет запрашивать у пользователя месяц и дату рождения и выводить соответствующий знак зодиака."
   ]
  },
  {
   "cell_type": "code",
   "execution_count": 44,
   "metadata": {},
   "outputs": [
    {
     "name": "stdout",
     "output_type": "stream",
     "text": [
      "Введите день: 1\n",
      "Введите месяц:1\n"
     ]
    }
   ],
   "source": [
    "day = int(input('Введите день: '))\n",
    "month = input('Введите месяц:')"
   ]
  },
  {
   "cell_type": "code",
   "execution_count": 45,
   "metadata": {},
   "outputs": [
    {
     "name": "stdout",
     "output_type": "stream",
     "text": [
      "Ваш знак зодиака: Козерог\n"
     ]
    }
   ],
   "source": [
    "if ((month == 'Март' or month == 'март' or month == '3') and day >= 21) or ((month == 'Апрель' or month == 'апрель' or month == '4') and day < 21):\n",
    "    print('Ваш знак зодиака: Овен')\n",
    "elif ((month == 'Март' or month == 'март' or month == '3') and day < 21) or ((month == 'Февраль' or month == 'февраль' or month == '2') and day >= 19):\n",
    "    print('Ваш знак зодиака: Рыбы')\n",
    "elif ((month == 'Апрель' or month == 'апрель' or month == '4') and day >= 21) or ((month == 'Май' or month == 'май' or month == '5') and day < 22):\n",
    "    print('Ваш знак зодиака: Телец')\n",
    "elif ((month == 'Май' or month == 'май' or month == '5') and day >= 22) or ((month == 'Июнь' or month == 'июнь' or month == '6') and day < 22):\n",
    "    print('Ваш знак зодиака: Близнецы')\n",
    "elif ((month == 'Июль' or month == 'июль' or month == '7') and day < 23) or ((month == 'Июнь' or month == 'июнь' or month == '6') and day >= 22):\n",
    "    print('Ваш знак зодиака: Рак')\n",
    "elif ((month == 'Июль' or month == 'июль' or month == '7') and day >= 23) or ((month == 'Август' or month == 'август' or month == '8') and day < 24):\n",
    "    print('Ваш знак зодиака: Лев')\n",
    "elif ((month == 'Сентябрь' or month == 'сентябрь' or month == '9') and day < 24) or ((month == 'Август' or month == 'август' or month == '8') and day >= 24):\n",
    "    print('Ваш знак зодиака: Дева')\n",
    "elif ((month == 'Сентябрь' or month == 'сентябрь' or month == '9') and day >= 24) or ((month == 'Октябрь' or month == 'октябрь' or month == '10') and day < 24):\n",
    "    print('Ваш знак зодиака: Весы')\n",
    "elif ((month == 'Ноябрь' or month == 'ноябрь' or month == '11') and day < 23) or ((month == 'Октябрь' or month == 'октябрь' or month == '10') and day >= 24):\n",
    "    print('Ваш знак зодиака: Скорпион')\n",
    "elif ((month == 'Ноябрь' or month == 'ноябрь' or month == '11') and day >= 23) or ((month == 'Декабрь' or month == 'декабрь' or month == '12') and day < 22):\n",
    "    print('Ваш знак зодиака: Стрелец')\n",
    "elif ((month == 'Январь' or month == 'январь' or month == '1') and day < 21) or ((month == 'Декабрь' or month == 'декабрь' or month == '12') and day >= 22):\n",
    "    print('Ваш знак зодиака: Козерог')\n",
    "elif ((month == 'Январь' or month == 'январь' or month == '1') and day >= 21) or ((month == 'Февраль' or month == 'февраль' or month == '2') and day < 19):\n",
    "    print('Ваш знак зодиака: Водолей')"
   ]
  },
  {
   "cell_type": "markdown",
   "metadata": {},
   "source": [
    "Задание 4\n",
    "Вам нужно написать программу для подбора упаковок по размерам товара. Размеры хранятся в переменных (в сантиметрах):"
   ]
  },
  {
   "cell_type": "code",
   "execution_count": 38,
   "metadata": {},
   "outputs": [],
   "source": [
    "width = 45\n",
    "length = 205\n",
    "height = 45"
   ]
  },
  {
   "cell_type": "code",
   "execution_count": 39,
   "metadata": {},
   "outputs": [
    {
     "name": "stdout",
     "output_type": "stream",
     "text": [
      "Упаковка для лыж\n"
     ]
    }
   ],
   "source": [
    "if length > 200:\n",
    "    print('Упаковка для лыж')\n",
    "elif width < 15 and length < 15 and height < 15:\n",
    "    print('Коробка №1')\n",
    "elif (15 < width < 50) or (15 < length < 50) or (15 < height < 50):\n",
    "    print('Коробка №2')\n",
    "else:\n",
    "    print('Стандартная коробка №3')"
   ]
  },
  {
   "cell_type": "code",
   "execution_count": null,
   "metadata": {},
   "outputs": [],
   "source": []
  }
 ],
 "metadata": {
  "kernelspec": {
   "display_name": "Python 3",
   "language": "python",
   "name": "python3"
  },
  "language_info": {
   "codemirror_mode": {
    "name": "ipython",
    "version": 3
   },
   "file_extension": ".py",
   "mimetype": "text/x-python",
   "name": "python",
   "nbconvert_exporter": "python",
   "pygments_lexer": "ipython3",
   "version": "3.8.3"
  }
 },
 "nbformat": 4,
 "nbformat_minor": 4
}
