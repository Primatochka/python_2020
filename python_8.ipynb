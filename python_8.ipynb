{
 "cells": [
  {
   "cell_type": "markdown",
   "metadata": {},
   "source": [
    "Задание 1\n",
    "Напишите функцию, которая принимает на вход строку и проверяет является ли она валидным транспортным номером \n",
    "(1 буква, 3 цифры, 2 буквы, 2-3 цифры). О\n",
    "братите внимание, что не все буквы кириллического алфавита используются в транспортных номерах.\n",
    "Если номер валиден, то функция должна возвращать отдельно номер и регион.\n",
    "Примеры работы программы:\n",
    "car_id = 'АВ222С96'\n",
    "Результат:  Номер АВ222С валиден. Регион: 96\n",
    "car_id = 'АБ22ВВ193'\n",
    "Результат:  Номер не валиден"
   ]
  },
  {
   "cell_type": "code",
   "execution_count": 269,
   "metadata": {},
   "outputs": [],
   "source": [
    "import re"
   ]
  },
  {
   "cell_type": "code",
   "execution_count": 270,
   "metadata": {},
   "outputs": [],
   "source": [
    "def chek_car_num(car_num):\n",
    "    car_num = re.findall(r'([АВЕКМНОРСТУХ]{2}\\d{3}[АВЕКМНОРСТУХ]{1})(\\d{2,3})',car_num)\n",
    "    if not car_num:\n",
    "        return car_num\n",
    "    else:\n",
    "        return car_num[0]"
   ]
  },
  {
   "cell_type": "code",
   "execution_count": 271,
   "metadata": {},
   "outputs": [],
   "source": [
    "car_id = ['АВ222С96','АБ22ВВ193','АР222Б22','АВ222С6 ','МО383С777']"
   ]
  },
  {
   "cell_type": "code",
   "execution_count": 272,
   "metadata": {},
   "outputs": [
    {
     "name": "stdout",
     "output_type": "stream",
     "text": [
      "Номер АВ222С валиден. Регион: 96\n",
      "Номер не валиден\n",
      "Номер не валиден\n",
      "Номер не валиден\n",
      "Номер МО383С валиден. Регион: 777\n"
     ]
    }
   ],
   "source": [
    "for i in car_id:\n",
    "    tmp = chek_car_num(i)\n",
    "    if not tmp:\n",
    "        print('Номер не валиден')\n",
    "    else:\n",
    "        print(f'Номер {tmp[0]} валиден. Регион: {tmp[1]}')"
   ]
  },
  {
   "cell_type": "code",
   "execution_count": null,
   "metadata": {},
   "outputs": [],
   "source": []
  },
  {
   "cell_type": "markdown",
   "metadata": {},
   "source": [
    "Задание 2\n",
    "Напишите функцию, которая будет удалять все последовательные повторы слов из заданной строки при помощи регулярных выражений.\n",
    "Пример работы программы:\n",
    "some_string = 'Напишите функцию функцию, которая будет будет будет будет удалять все все все все последовательные повторы слов из из из из заданной строки строки при помощи регулярных выражений'\n",
    "Результат:  Напишите функцию, которая будет удалять все последовательные повторы слов из заданной строки при помощи регулярных выражений."
   ]
  },
  {
   "cell_type": "code",
   "execution_count": 273,
   "metadata": {},
   "outputs": [],
   "source": [
    "some_string = 'Напишите функцию функцию, которая будет будет будет будет удалять все все все все последовательные повторы слов из из из из заданной строки строки при помощи регулярных выражений'"
   ]
  },
  {
   "cell_type": "code",
   "execution_count": 274,
   "metadata": {},
   "outputs": [],
   "source": [
    "def clear_txt(some_txt):\n",
    "    clr_txt = []\n",
    "    tmp = re.findall(r'(\\w+|[,.])', some_txt)\n",
    "    clr_txt.append(tmp[0])\n",
    "    for i in range(len(tmp)):\n",
    "        if tmp[i] == clr_txt[len(clr_txt)-1]:\n",
    "            i +=1\n",
    "        else:\n",
    "            clr_txt.append(tmp[i])\n",
    "    listToStr = ' '.join(map(str, clr_txt)) \n",
    "    return listToStr"
   ]
  },
  {
   "cell_type": "code",
   "execution_count": 275,
   "metadata": {},
   "outputs": [
    {
     "data": {
      "text/plain": [
       "'Напишите функцию , которая будет удалять все последовательные повторы слов из заданной строки при помощи регулярных выражений'"
      ]
     },
     "execution_count": 275,
     "metadata": {},
     "output_type": "execute_result"
    }
   ],
   "source": [
    "clear_txt(some_string)"
   ]
  },
  {
   "cell_type": "code",
   "execution_count": null,
   "metadata": {},
   "outputs": [],
   "source": []
  },
  {
   "cell_type": "markdown",
   "metadata": {},
   "source": [
    "Задание 3\n",
    "Напишите функцию, которая будет возвращать акроним по переданной в нее строке со словами.\n",
    "Примеры работы программы:\n",
    "some_words = 'Информационные технологии'\n",
    "Результат:  ИТ\n",
    "some_words = 'Near Field Communication'\n",
    "Результат:  NFC"
   ]
  },
  {
   "cell_type": "code",
   "execution_count": 276,
   "metadata": {},
   "outputs": [],
   "source": [
    "some_words = ['Информационные технологии','Near Field Communication','flat mars community']"
   ]
  },
  {
   "cell_type": "code",
   "execution_count": 277,
   "metadata": {},
   "outputs": [],
   "source": [
    "def create_acronym(some_words):\n",
    "    acr_txt = []\n",
    "    tmp = re.split(r'\\W+', some_words)\n",
    "    for i in tmp:\n",
    "        t = re.findall(r'^.',i)\n",
    "        acr_txt.append(t[0])\n",
    "    acr = ''.join(map(str, acr_txt)) \n",
    "    return acr.upper()"
   ]
  },
  {
   "cell_type": "code",
   "execution_count": 278,
   "metadata": {},
   "outputs": [
    {
     "name": "stdout",
     "output_type": "stream",
     "text": [
      "ИТ\n",
      "NFC\n",
      "FMC\n"
     ]
    }
   ],
   "source": [
    "for i in some_words:\n",
    "    print(create_acronym(i))"
   ]
  },
  {
   "cell_type": "code",
   "execution_count": null,
   "metadata": {},
   "outputs": [],
   "source": []
  },
  {
   "cell_type": "markdown",
   "metadata": {},
   "source": [
    "Задание 4\n",
    "Напишите функцию, которая будет принимать на вход список email-адресов и выводить их распределение по доменным зонам.\n",
    "Пример работы программы:\n",
    "emails = ['test@gmail.com, xyz@test.in, test@ya.ru, xyz@mail.ru, xyz@ya.ru', xyz@gmail.com]\n",
    "Результат:\n",
    "gmail.com: 2\n",
    "test.in: 1 \n",
    "ya.ru: 2 \n",
    "mail.ru: 1"
   ]
  },
  {
   "cell_type": "code",
   "execution_count": 279,
   "metadata": {},
   "outputs": [],
   "source": [
    "emails = ['test@gmail.com, xyz@test.in, test@ya.ru, xyz@mail.ru, xyz@ya.ru', 'xyz@gmail.com']"
   ]
  },
  {
   "cell_type": "code",
   "execution_count": 280,
   "metadata": {},
   "outputs": [],
   "source": [
    "def domen_count(email):\n",
    "    d_list = {}\n",
    "    for i in email:\n",
    "        tmp = re.findall(r'@(\\w+.\\w+)',i)\n",
    "        for j in tmp:\n",
    "            if j in d_list.keys():\n",
    "                d_list[j] += 1\n",
    "            else:\n",
    "                d_list.update({j:1})\n",
    "    for i,j in d_list.items():\n",
    "        print(f'{i}: {j}')"
   ]
  },
  {
   "cell_type": "code",
   "execution_count": 281,
   "metadata": {},
   "outputs": [
    {
     "name": "stdout",
     "output_type": "stream",
     "text": [
      "gmail.com: 2\n",
      "test.in: 1\n",
      "ya.ru: 2\n",
      "mail.ru: 1\n"
     ]
    }
   ],
   "source": [
    "domen_count(emails)"
   ]
  },
  {
   "cell_type": "code",
   "execution_count": null,
   "metadata": {},
   "outputs": [],
   "source": []
  }
 ],
 "metadata": {
  "kernelspec": {
   "display_name": "Python 3",
   "language": "python",
   "name": "python3"
  },
  "language_info": {
   "codemirror_mode": {
    "name": "ipython",
    "version": 3
   },
   "file_extension": ".py",
   "mimetype": "text/x-python",
   "name": "python",
   "nbconvert_exporter": "python",
   "pygments_lexer": "ipython3",
   "version": "3.8.3"
  }
 },
 "nbformat": 4,
 "nbformat_minor": 4
}
