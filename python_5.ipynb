{
 "cells": [
  {
   "cell_type": "markdown",
   "metadata": {},
   "source": [
    "Переведите содержимое файла purchase_log.txt в словарь purchases вида:\n",
    "{‘1840e0b9d4’: ‘Продукты’, …}"
   ]
  },
  {
   "cell_type": "code",
   "execution_count": 54,
   "metadata": {},
   "outputs": [],
   "source": [
    "import json"
   ]
  },
  {
   "cell_type": "code",
   "execution_count": 72,
   "metadata": {},
   "outputs": [
    {
     "name": "stdout",
     "output_type": "stream",
     "text": [
      "('1840e0b9d4', 'Продукты')\n",
      "('afea8d72fc', 'Электроника')\n",
      "('9b2ab046f3', 'Электроника')\n",
      "('44edeffc91', 'Продукты')\n",
      "('1de31be403', 'Бытовая техника')\n",
      "('79843a685a', 'Продукты')\n"
     ]
    }
   ],
   "source": [
    "purchase = {}\n",
    "tmp = {}\n",
    "\n",
    "with open('f_python_5/purchase_log.txt') as f1:\n",
    "    for x in f1:\n",
    "        tmp.update(json.loads(next(f1)))\n",
    "        purchase.update({tmp.get('user_id'):tmp.get('category')})\n",
    "\n",
    "#вывод для проверки\n",
    "t = 0\n",
    "for i in purchase.items():\n",
    "    print(i)\n",
    "    t += 1\n",
    "    if t == 6:\n",
    "        break"
   ]
  },
  {
   "cell_type": "markdown",
   "metadata": {},
   "source": [
    "Для каждого user_id в файле visit_log.csv определите третий столбец с категорией покупки (если покупка была, сам файл visit_log.csv изменять не надо). Запишите в файл funnel.csv визиты из файла visit_log.csv, в которых были покупки с указанием категории.\n",
    "Учтите условия на данные:\n",
    "содержимое purchase_log.txt помещается в оперативную память компьютера\n",
    "содержимое visit_log.csv - нет; используйте только построчную обработку этого фай"
   ]
  },
  {
   "cell_type": "code",
   "execution_count": 71,
   "metadata": {
    "scrolled": true
   },
   "outputs": [],
   "source": [
    "with open('f_python_5/visit_log.csv') as f2:\n",
    "    with open('f_python_5/funnel.csv', 'w') as f3:\n",
    "        for i in f2:\n",
    "            vl = f2.readline().strip()\n",
    "            vs = vl.split(',')\n",
    "            if purchase.get(vs[0]) != None:\n",
    "                #print(f'{vl},{purchase.get(vs[0])}')\n",
    "                f3.write(vl + ',' + purchase.get(vs[0]) + '\\n')"
   ]
  },
  {
   "cell_type": "code",
   "execution_count": null,
   "metadata": {},
   "outputs": [],
   "source": []
  }
 ],
 "metadata": {
  "kernelspec": {
   "display_name": "Python 3",
   "language": "python",
   "name": "python3"
  },
  "language_info": {
   "codemirror_mode": {
    "name": "ipython",
    "version": 3
   },
   "file_extension": ".py",
   "mimetype": "text/x-python",
   "name": "python",
   "nbconvert_exporter": "python",
   "pygments_lexer": "ipython3",
   "version": "3.8.3"
  }
 },
 "nbformat": 4,
 "nbformat_minor": 4
}
