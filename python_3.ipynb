{
 "cells": [
  {
   "cell_type": "markdown",
   "metadata": {},
   "source": [
    "Задание 1\n",
    "Дана переменная, в которой хранится словарь, содержащий гео-метки для каждого пользователя (пример структуры данных приведен ниже). Вам необходимо написать программу, которая выведет на экран множество уникальных гео-меток всех пользователей."
   ]
  },
  {
   "cell_type": "code",
   "execution_count": 1,
   "metadata": {},
   "outputs": [],
   "source": [
    "ids = {'user1': [213, 213, 213, 15, 213],\n",
    "'user2': [54, 54, 119, 119, 119],\n",
    "'user3': [213, 98, 98, 35]}"
   ]
  },
  {
   "cell_type": "code",
   "execution_count": 23,
   "metadata": {},
   "outputs": [
    {
     "name": "stdout",
     "output_type": "stream",
     "text": [
      "[15, 54, 119, 213, 98, 35]\n"
     ]
    }
   ],
   "source": [
    "a = []\n",
    "for i in ids:\n",
    "    for j in ids[i]:\n",
    "        a.append(j)\n",
    "        if a.count(j) > 1:\n",
    "            a.remove(j)\n",
    "print(a)"
   ]
  },
  {
   "cell_type": "markdown",
   "metadata": {},
   "source": [
    "Задание 2\n",
    "Дана переменная, в которой хранится список поисковых запросов пользователя (пример структуры данных приведен ниже). Вам необходимо написать программу, которая выведет на экран распределение количества слов в запросах в требуемом виде."
   ]
  },
  {
   "cell_type": "code",
   "execution_count": 44,
   "metadata": {},
   "outputs": [],
   "source": [
    "queries = [\n",
    "'смотреть сериалы онлайн',\n",
    "'новости спорта',\n",
    "'афиша кино',\n",
    "'курс доллара',\n",
    "'сериалы этим летом',\n",
    "'курс по питону',\n",
    "'сериалы про спорт',\n",
    "'c'\n",
    "]"
   ]
  },
  {
   "cell_type": "code",
   "execution_count": 52,
   "metadata": {},
   "outputs": [
    {
     "name": "stdout",
     "output_type": "stream",
     "text": [
      "Поисковых запросов, содержащих 3 слов(а): 50.0%\n",
      "Поисковых запросов, содержащих 2 слов(а): 37.5%\n",
      "Поисковых запросов, содержащих 1 слов(а): 12.5%\n"
     ]
    }
   ],
   "source": [
    "t = {}\n",
    "for i in queries:\n",
    "    if i.count(' ')+1 in t:\n",
    "        t[i.count(' ')+1] += 1\n",
    "    else:\n",
    "        t[i.count(' ')+1] = 1\n",
    "total = 0\n",
    "for i in t:\n",
    "    total += t[i]\n",
    "for i in t:\n",
    "    print(f'Поисковых запросов, содержащих {i} слов(а): {round(t[i]*100/total,2)}%')"
   ]
  },
  {
   "cell_type": "markdown",
   "metadata": {},
   "source": [
    "Задание 3\n",
    "Дана переменная, в которой хранится информация о затратах и доходе рекламных кампаний по различным источникам. Необходимо дополнить исходную структуру показателем ROI, который рассчитаем по формуле: (revenue / cost - 1) * 100"
   ]
  },
  {
   "cell_type": "code",
   "execution_count": 53,
   "metadata": {},
   "outputs": [],
   "source": [
    "results = {\n",
    "'vk': {'revenue': 103, 'cost': 98},\n",
    "'yandex': {'revenue': 179, 'cost': 153},\n",
    "'facebook': {'revenue': 103, 'cost': 110},\n",
    "'adwords': {'revenue': 35, 'cost': 34},\n",
    "'twitter': {'revenue': 11, 'cost': 24},\n",
    "}"
   ]
  },
  {
   "cell_type": "code",
   "execution_count": 86,
   "metadata": {},
   "outputs": [
    {
     "name": "stdout",
     "output_type": "stream",
     "text": [
      "adwords : [('ROI', 106.06), ('cost', 34), ('revenue', 35)]\n",
      "facebook : [('ROI', 94.5), ('cost', 110), ('revenue', 103)]\n",
      "twitter : [('ROI', 47.83), ('cost', 24), ('revenue', 11)]\n",
      "vk : [('ROI', 106.19), ('cost', 98), ('revenue', 103)]\n",
      "yandex : [('ROI', 117.76), ('cost', 153), ('revenue', 179)]\n"
     ]
    }
   ],
   "source": [
    "for sourse, rc in results.items():\n",
    "    rc['ROI'] = round(rc['revenue'] /(rc['cost'] - 1) * 100,2)\n",
    "list_keys = list(results.keys())\n",
    "list_keys.sort()\n",
    "for i in list_keys:\n",
    "    print(i, ':', sorted(results[i].items()))"
   ]
  },
  {
   "cell_type": "markdown",
   "metadata": {},
   "source": [
    "Задание 4\n",
    "Дана переменная, в которой хранится статистика рекламных каналов по объемам продаж (пример структуры данных приведен ниже). Напишите программу, которая возвращает название канала с максимальным объемом продаж."
   ]
  },
  {
   "cell_type": "code",
   "execution_count": 91,
   "metadata": {},
   "outputs": [],
   "source": [
    "stats = {'facebook': 55, 'yandex': 115, 'vk': 120, 'google': 99, 'email': 420, 'ok': 98}"
   ]
  },
  {
   "cell_type": "code",
   "execution_count": 92,
   "metadata": {},
   "outputs": [
    {
     "name": "stdout",
     "output_type": "stream",
     "text": [
      "Максимальный объем продаж на рекламном канале: email\n"
     ]
    }
   ],
   "source": [
    "val = stats.values()\n",
    "for a,b in stats.items():\n",
    "    if b == max(val):\n",
    "        print(f'Максимальный объем продаж на рекламном канале: {a}')"
   ]
  },
  {
   "cell_type": "code",
   "execution_count": null,
   "metadata": {},
   "outputs": [],
   "source": []
  }
 ],
 "metadata": {
  "kernelspec": {
   "display_name": "Python 3",
   "language": "python",
   "name": "python3"
  },
  "language_info": {
   "codemirror_mode": {
    "name": "ipython",
    "version": 3
   },
   "file_extension": ".py",
   "mimetype": "text/x-python",
   "name": "python",
   "nbconvert_exporter": "python",
   "pygments_lexer": "ipython3",
   "version": "3.8.3"
  }
 },
 "nbformat": 4,
 "nbformat_minor": 4
}
