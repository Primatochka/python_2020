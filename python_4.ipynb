{
 "cells": [
  {
   "cell_type": "code",
   "execution_count": 112,
   "metadata": {},
   "outputs": [],
   "source": [
    "documents = [\n",
    "{'type': 'passport', 'number': '2207 876234', 'name': 'Василий Гупкин'},\n",
    "{'type': 'invoice', 'number': '11-2', 'name': 'Геннадий Покемонов'},\n",
    "{'type': 'insurance', 'number': '10006', 'name': 'Аристарх Павлов'}\n",
    "]\n",
    "directories = {\n",
    "'1': ['2207 876234', '11-2'],\n",
    "'2': ['10006'],\n",
    "'3': []\n",
    "}"
   ]
  },
  {
   "cell_type": "markdown",
   "metadata": {},
   "source": [
    "Задание 1\n",
    "Пункт 1. Пользователь по команде “p” может узнать владельца документа по его номеру"
   ]
  },
  {
   "cell_type": "code",
   "execution_count": 128,
   "metadata": {},
   "outputs": [],
   "source": [
    "def main():\n",
    "    while 1==1:\n",
    "        command = input('Введите команду: ')\n",
    "        if command == 'q':\n",
    "            break\n",
    "        elif command == 'p':\n",
    "            doc_num = input('Введите номер документа:')\n",
    "            p_n_flag = print_name(doc_num)\n",
    "            if p_n_flag == False:\n",
    "                print('Документ не найден в базе')\n",
    "            else:\n",
    "                print(f'Владелец документа: {p_n_flag}')\n",
    "        elif command == 's':\n",
    "            doc_num = input('Введите номер документа:')\n",
    "            doc_s_flag = doc_shelf(doc_num)\n",
    "            if doc_s_flag == False:\n",
    "                print(f'Такой полки не существует')\n",
    "            else:\n",
    "                print(f'Документ хранится на полке: {doc_s_flag}')\n",
    "        elif command == 'l':\n",
    "            doc_list()\n",
    "        elif command == 'as':\n",
    "            shelf_num = input('Введите номер полки:')\n",
    "            n_s_flag = new_shelf(shelf_num)\n",
    "            listToStr = ', '.join(map(str, list(directories.keys())))\n",
    "            if n_s_flag == False:\n",
    "                print(f'Такая полка уже существует. Текущий перечень полок: {listToStr}')\n",
    "            else: \n",
    "                print(f'Полка добавлена. Текущий перечень полок: {listToStr}')\n",
    "        elif command == 'ds':\n",
    "            shelf_num = input('Введите номер полки:')\n",
    "            d_s_flag = del_shelf(shelf_num)\n",
    "            listToStr = ', '.join(map(str, list(directories.keys())))\n",
    "            if d_s_flag == False:\n",
    "                print(f'На полке есть документы, удалите их перед удалением полки. Текущий перечень полок: {listToStr}')\n",
    "            elif d_s_flag == 2:\n",
    "                print(f'Такой полки не существует. Текущий перечень полок: {listToStr}')\n",
    "            else: \n",
    "                print(f'Полка удалена. Текущий перечень полок: {listToStr}')"
   ]
  },
  {
   "cell_type": "code",
   "execution_count": 87,
   "metadata": {},
   "outputs": [],
   "source": [
    "def print_name(doc_num):\n",
    "    t = 0\n",
    "    for i in documents:\n",
    "        if i.get('number') == doc_num:\n",
    "            t = 1\n",
    "            return i.get('name')\n",
    "    if t != 1:\n",
    "        return False"
   ]
  },
  {
   "cell_type": "markdown",
   "metadata": {},
   "source": [
    "Пункт 2. Пользователь по команде “s” может по номеру документа узнать на какой полке он хранится"
   ]
  },
  {
   "cell_type": "code",
   "execution_count": 116,
   "metadata": {},
   "outputs": [],
   "source": [
    "def doc_shelf(doc_num):\n",
    "    t = 0\n",
    "    for i,j in directories.items():\n",
    "        if doc_num in j:\n",
    "            t = 1\n",
    "            return(i)\n",
    "    if t != 1:\n",
    "        return False"
   ]
  },
  {
   "cell_type": "markdown",
   "metadata": {},
   "source": [
    "Пункт 3. Пользователь по команде “l” может увидеть полную информацию по всем документам"
   ]
  },
  {
   "cell_type": "code",
   "execution_count": 53,
   "metadata": {},
   "outputs": [],
   "source": [
    "def doc_list():\n",
    "    for i in documents:\n",
    "        print(f'№ {i.get(\"number\")}, тип: {i.get(\"type\")}, владелец: {i.get(\"name\")}, полка хранения: {doc_shelf(i.get(\"number\"))}')\n",
    "    return True"
   ]
  },
  {
   "cell_type": "markdown",
   "metadata": {},
   "source": [
    "Пункт 4. Пользователь по команде “as” может добавить новую полку"
   ]
  },
  {
   "cell_type": "code",
   "execution_count": 96,
   "metadata": {},
   "outputs": [],
   "source": [
    "def new_shelf(shelf_num):\n",
    "    if shelf_num in directories.keys():\n",
    "        return False\n",
    "    else:\n",
    "        directories.update({shelf_num : []})\n",
    "        return True"
   ]
  },
  {
   "cell_type": "markdown",
   "metadata": {},
   "source": [
    "Пункт 5. Пользователь по команде “ds” может удалить существующую полку из данных (только если она пустая)"
   ]
  },
  {
   "cell_type": "code",
   "execution_count": 132,
   "metadata": {},
   "outputs": [],
   "source": [
    "def del_shelf(shelf_num):\n",
    "    if shelf_num in directories.keys():\n",
    "        listFromDict = list(directories.get(shelf_num))\n",
    "        if not listFromDict:\n",
    "            directories.pop(shelf_num)\n",
    "            return True\n",
    "        else:\n",
    "            return False\n",
    "    else:\n",
    "        return 2"
   ]
  },
  {
   "cell_type": "code",
   "execution_count": 133,
   "metadata": {},
   "outputs": [
    {
     "name": "stdout",
     "output_type": "stream",
     "text": [
      "Введите команду: ds\n",
      "Введите номер полки:34\n",
      "Такой полки не существует. Текущий перечень полок: 1, 2, 3\n",
      "Введите команду: ds\n",
      "Введите номер полки:2\n",
      "На полке есть документы, удалите их перед удалением полки. Текущий перечень полок: 1, 2, 3\n",
      "Введите команду: ds\n",
      "Введите номер полки:3\n",
      "Полка удалена. Текущий перечень полок: 1, 2\n",
      "Введите команду: ds\n",
      "Введите номер полки:4\n",
      "Такой полки не существует. Текущий перечень полок: 1, 2\n",
      "Введите команду: as\n",
      "Введите номер полки:4\n",
      "Полка добавлена. Текущий перечень полок: 1, 2, 4\n",
      "Введите команду: ds\n",
      "Введите номер полки:4\n",
      "Полка удалена. Текущий перечень полок: 1, 2\n",
      "Введите команду: as\n",
      "Введите номер полки:3\n",
      "Полка добавлена. Текущий перечень полок: 1, 2, 3\n",
      "Введите команду: as\n",
      "Введите номер полки:4\n",
      "Полка добавлена. Текущий перечень полок: 1, 2, 3, 4\n",
      "Введите команду: as\n",
      "Введите номер полки:4\n",
      "Такая полка уже существует. Текущий перечень полок: 1, 2, 3, 4\n",
      "Введите команду: q\n"
     ]
    }
   ],
   "source": [
    "main()"
   ]
  },
  {
   "cell_type": "code",
   "execution_count": null,
   "metadata": {},
   "outputs": [],
   "source": []
  }
 ],
 "metadata": {
  "kernelspec": {
   "display_name": "Python 3",
   "language": "python",
   "name": "python3"
  },
  "language_info": {
   "codemirror_mode": {
    "name": "ipython",
    "version": 3
   },
   "file_extension": ".py",
   "mimetype": "text/x-python",
   "name": "python",
   "nbconvert_exporter": "python",
   "pygments_lexer": "ipython3",
   "version": "3.8.3"
  }
 },
 "nbformat": 4,
 "nbformat_minor": 4
}
