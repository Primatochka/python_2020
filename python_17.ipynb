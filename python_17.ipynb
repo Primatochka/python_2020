{
 "cells": [
  {
   "cell_type": "markdown",
   "metadata": {},
   "source": [
    "Смоделировать игру против лотерейного автомата типа “777”. Игрок платит 1 руб., после чего выпадает случайное целое число, равномерно распределенное от 0 до 999. При некоторых значениях числа игрок получает выигрыш\n",
    "\n",
    "Выгодна ли игра игроку?\n",
    "\n",
    "Сколько в среднем приобретает или теряет игрок за одну игру?"
   ]
  },
  {
   "cell_type": "code",
   "execution_count": 53,
   "metadata": {},
   "outputs": [],
   "source": [
    "import numpy as np\n",
    "import matplotlib.pyplot as plt\n",
    "import pandas as pd"
   ]
  },
  {
   "cell_type": "code",
   "execution_count": 61,
   "metadata": {},
   "outputs": [
    {
     "name": "stdout",
     "output_type": "stream",
     "text": [
      "вероятность выигрыша - 0.15117252931323283\n"
     ]
    },
    {
     "data": {
      "text/html": [
       "<div>\n",
       "<style scoped>\n",
       "    .dataframe tbody tr th:only-of-type {\n",
       "        vertical-align: middle;\n",
       "    }\n",
       "\n",
       "    .dataframe tbody tr th {\n",
       "        vertical-align: top;\n",
       "    }\n",
       "\n",
       "    .dataframe thead th {\n",
       "        text-align: right;\n",
       "    }\n",
       "</style>\n",
       "<table border=\"1\" class=\"dataframe\">\n",
       "  <thead>\n",
       "    <tr style=\"text-align: right;\">\n",
       "      <th></th>\n",
       "      <th>max_p</th>\n",
       "      <th>avg_p</th>\n",
       "    </tr>\n",
       "  </thead>\n",
       "  <tbody>\n",
       "    <tr>\n",
       "      <th>count</th>\n",
       "      <td>1000.000000</td>\n",
       "      <td>1000.000000</td>\n",
       "    </tr>\n",
       "    <tr>\n",
       "      <th>mean</th>\n",
       "      <td>0.699000</td>\n",
       "      <td>0.119750</td>\n",
       "    </tr>\n",
       "    <tr>\n",
       "      <th>std</th>\n",
       "      <td>6.652718</td>\n",
       "      <td>0.566543</td>\n",
       "    </tr>\n",
       "    <tr>\n",
       "      <th>min</th>\n",
       "      <td>0.000000</td>\n",
       "      <td>0.000000</td>\n",
       "    </tr>\n",
       "    <tr>\n",
       "      <th>25%</th>\n",
       "      <td>0.000000</td>\n",
       "      <td>0.000000</td>\n",
       "    </tr>\n",
       "    <tr>\n",
       "      <th>50%</th>\n",
       "      <td>0.000000</td>\n",
       "      <td>0.000000</td>\n",
       "    </tr>\n",
       "    <tr>\n",
       "      <th>75%</th>\n",
       "      <td>0.000000</td>\n",
       "      <td>0.000000</td>\n",
       "    </tr>\n",
       "    <tr>\n",
       "      <th>max</th>\n",
       "      <td>200.000000</td>\n",
       "      <td>15.154494</td>\n",
       "    </tr>\n",
       "  </tbody>\n",
       "</table>\n",
       "</div>"
      ],
      "text/plain": [
       "             max_p        avg_p\n",
       "count  1000.000000  1000.000000\n",
       "mean      0.699000     0.119750\n",
       "std       6.652718     0.566543\n",
       "min       0.000000     0.000000\n",
       "25%       0.000000     0.000000\n",
       "50%       0.000000     0.000000\n",
       "75%       0.000000     0.000000\n",
       "max     200.000000    15.154494"
      ]
     },
     "execution_count": 61,
     "metadata": {},
     "output_type": "execute_result"
    },
    {
     "data": {
      "image/png": "[encoded data removed]",
      "text/plain": [
       "<Figure size 432x288 with 1 Axes>"
      ]
     },
     "metadata": {
      "needs_background": "light"
     },
     "output_type": "display_data"
    }
   ],
   "source": [
    "trials = 1000    # Количество попыток\n",
    "successes_total = 0    # Количество успехов всего\n",
    "max_prize = {}\n",
    "total = 0\n",
    "\n",
    "\n",
    "for i in range(trials):\n",
    "    fee_list = []\n",
    "    fee = 1\n",
    "    successes = 0\n",
    "    while fee > 0:\n",
    "        fee -= 1\n",
    "        lottery_res = np.random.randint(0, 999)\n",
    "        #print(lottery_res)\n",
    "        str_res = str(lottery_res)\n",
    "        if lottery_res == 777:\n",
    "            fee += 200\n",
    "            fee_list.append(fee)\n",
    "            successes += 1\n",
    "        elif lottery_res == 999:\n",
    "            fee += 100\n",
    "            fee_list.append(fee)\n",
    "            successes += 1\n",
    "        elif lottery_res == 555:\n",
    "            fee += 50\n",
    "            fee_list.append(fee)\n",
    "            successes += 1\n",
    "        elif lottery_res == 333:\n",
    "            fee += 15\n",
    "            fee_list.append(fee)\n",
    "            successes += 1\n",
    "        elif lottery_res == 111:\n",
    "            fee += 10\n",
    "            fee_list.append(fee)\n",
    "            successes += 1\n",
    "        if len(str_res) == 2:\n",
    "            str_res = '0' + str_res\n",
    "        elif len(str_res) == 1:\n",
    "            str_res = '00' + str_res\n",
    "        elif str_res[-2] == \"77\" and lottery_res != 777:\n",
    "            fee += 5\n",
    "            fee_list.append(fee)\n",
    "            successes += 1\n",
    "        elif str_res[-1] == \"7\" and lottery_res != 777:\n",
    "            fee += 3\n",
    "            fee_list.append(fee)\n",
    "            successes += 1\n",
    "        elif str_res[-2] == \"00\":\n",
    "            fee += 2\n",
    "            fee_list.append(fee)\n",
    "            successes += 1\n",
    "        elif str_res[-1] == \"0\":\n",
    "            fee += 1\n",
    "            fee_list.append(fee)\n",
    "            successes += 1\n",
    "        fee_list.append(0)\n",
    "    else:\n",
    "        max_prize[i] = [max(fee_list), sum(fee_list) / len(fee_list)]\n",
    "        successes_total += successes\n",
    "        total += len(fee_list)\n",
    "        #print(f'successes = {successes} max_prize = {max(fee_list)}')\n",
    "        \n",
    "p_monte_carlo = successes_total / total\n",
    "print(f'вероятность выигрыша - {p_monte_carlo}')\n",
    "\n",
    "\n",
    "df = pd.DataFrame.from_dict(max_prize , orient='index', columns=['max_p', 'avg_p'])\n",
    "df.plot()\n",
    "\n",
    "df.describe()"
   ]
  },
  {
   "cell_type": "code",
   "execution_count": null,
   "metadata": {},
   "outputs": [],
   "source": []
  },
  {
   "cell_type": "code",
   "execution_count": null,
   "metadata": {},
   "outputs": [],
   "source": []
  },
  {
   "cell_type": "code",
   "execution_count": null,
   "metadata": {},
   "outputs": [],
   "source": []
  }
 ],
 "metadata": {
  "kernelspec": {
   "display_name": "Python 3",
   "language": "python",
   "name": "python3"
  },
  "language_info": {
   "codemirror_mode": {
    "name": "ipython",
    "version": 3
   },
   "file_extension": ".py",
   "mimetype": "text/x-python",
   "name": "python",
   "nbconvert_exporter": "python",
   "pygments_lexer": "ipython3",
   "version": "3.8.3"
  }
 },
 "nbformat": 4,
 "nbformat_minor": 4
}
