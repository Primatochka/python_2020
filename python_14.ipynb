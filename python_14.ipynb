{
 "cells": [
  {
   "cell_type": "markdown",
   "metadata": {},
   "source": [
    "Задание 1.\n",
    "Обязательная часть\n",
    "Будем парсить страницу со свежеми новостям на habr.com/ru/all/.\n",
    "Вам необходимо собирать только те статьи, в которых встречается хотя бы одно требуемое ключевое слово. Эти слова определяем в начале кода в переменной, например:\n",
    "KEYWORDS = ['python', 'парсинг']\n",
    "Поиск вести по всей доступной preview-информации (это информация, доступная непосредственно с текущей страницы).\n",
    "В итоге должен формироваться датафрейм вида: <дата> - <заголовок> - <ссылка>"
   ]
  },
  {
   "cell_type": "code",
   "execution_count": 4,
   "metadata": {},
   "outputs": [],
   "source": [
    "import requests\n",
    "import time\n",
    "from bs4 import BeautifulSoup\n",
    "import pandas as pd\n",
    "from datetime import datetime\n",
    "import regex as r"
   ]
  },
  {
   "cell_type": "code",
   "execution_count": 21,
   "metadata": {},
   "outputs": [],
   "source": [
    "req = requests.get('https://habr.com/ru/all/')\n",
    "soup = BeautifulSoup(req.text, 'html.parser')\n",
    "posts = soup.find_all('article', class_='post')"
   ]
  },
  {
   "cell_type": "code",
   "execution_count": 89,
   "metadata": {},
   "outputs": [
    {
     "name": "stdout",
     "output_type": "stream",
     "text": [
      "<article class=\"post post_preview\" lang=\"ru\">\n",
      "<header class=\"post__meta\">\n",
      "<a class=\"post__user-info user-info\" href=\"https://habr.com/ru/users/fillpackart/\" title=\"Автор публикации\">\n",
      "<img class=\"user-info__image-pic user-info__image-pic_small\" height=\"24\" src=\"//habrastorage.org/getpro/habr/avatars/7eb/b30/613/7ebb306137a00d2f53bbef9235f351c5.jpg\" width=\"24\"/>\n",
      "<span class=\"user-info__nickname user-info__nickname_small\">fillpackart</span>\n",
      "</a>\n",
      "<span class=\"post__time\">сегодня в 18:30</span>\n",
      "</header>\n",
      "<h2 class=\"post__title\">\n",
      "<a class=\"post__title_link\" href=\"https://habr.com/ru/company/vdsina/blog/523618/\">Я принес вам решение проблемы с исключениями в C#. Но вам не понравится</a>\n",
      "</h2>\n",
      "<ul class=\"post__hubs inline-list\">\n",
      "<li class=\"inline-list__item inline-list__item_hub\">\n",
      "<a class=\"inline-list__item-link hub-link\" href=\"https://habr.com/ru/company/vdsina/\" onclick=\"if (typeof ga === 'function') { ga('send', 'event', 'hub', 'feed page', 'Блог компании VDSina.ru'); }\" rel=\"nofollow\" title=\"Вы не подписаны на этот хаб\">Блог компании VDSina.ru</a>, \n",
      "        </li>\n",
      "<li class=\"inline-list__item inline-list__item_hub\">\n",
      "<a class=\"inline-list__item-link hub-link\" href=\"https://habr.com/ru/hub/net/\" onclick=\"if (typeof ga === 'function') { ga('send', 'event', 'hub', 'feed page', '.NET'); }\" rel=\"nofollow\" title=\"Вы не подписаны на этот хаб\">.NET</a>, \n",
      "        </li>\n",
      "<li class=\"inline-list__item inline-list__item_hub\">\n",
      "<a class=\"inline-list__item-link hub-link\" href=\"https://habr.com/ru/hub/csharp/\" onclick=\"if (typeof ga === 'function') { ga('send', 'event', 'hub', 'feed page', 'C#'); }\" rel=\"nofollow\" title=\"Вы не подписаны на этот хаб\">C#</a>, \n",
      "        </li>\n",
      "<li class=\"inline-list__item inline-list__item_hub\">\n",
      "<a class=\"inline-list__item-link hub-link\" href=\"https://habr.com/ru/hub/programming/\" onclick=\"if (typeof ga === 'function') { ga('send', 'event', 'hub', 'feed page', 'Программирование'); }\" rel=\"nofollow\" title=\"Вы не подписаны на этот хаб\">Программирование</a>, \n",
      "        </li>\n",
      "<li class=\"inline-list__item inline-list__item_hub\">\n",
      "<a class=\"inline-list__item-link hub-link\" href=\"https://habr.com/ru/hub/complete_code/\" onclick=\"if (typeof ga === 'function') { ga('send', 'event', 'hub', 'feed page', 'Совершенный код'); }\" rel=\"nofollow\" title=\"Вы не подписаны на этот хаб\">Совершенный код</a>\n",
      "</li>\n",
      "</ul>\n",
      "<ul class=\"post__marks inline-list\"></ul>\n",
      "<div class=\"post__body post__body_crop\">\n",
      "<div class=\"post__text post__text-html post__text_v1\">\n",
      "<img src=\"https://habrastorage.org/webt/wd/9j/y3/wd9jy3n89uheixheqw5zua8ilng.jpeg\"/><br/>\n",
      "<br/>\r\n",
      "Я каждый день пишу код на сишарпе, и натыкаюсь на одну проблему: я трачу кучу времени на то, чтобы решить, как быть, если что-то идёт не по плану.<br/>\n",
      "<br/>\r\n",
      "У меня есть приличный опыт работы с другими языками программирования, и стандартный подход по работе с ошибками в C# мне не нравится. Но языки и платформы устроены так, что ты решаешь проблемы не как считаешь нужным, а так, как принято. <br/>\n",
      "<br/>\r\n",
      "Эти размышления меня измучили, и я систематизировал свои знания и идеи по обработке исключительных случаев.<br/>\n",
      "</div>\n",
      "<a class=\"btn btn_x-large btn_outline_blue post__habracut-btn\" href=\"https://habr.com/ru/company/vdsina/blog/523618/#habracut\">Читать дальше →</a>\n",
      "</div>\n",
      "<footer class=\"post__footer\">\n",
      "<ul class=\"post-stats js-user_\" data-post-type=\"publish_corp_ru,c_vdsina,h_546,h_17718,h_359,h_524,f_develop\" id=\"infopanel_post_523618\">\n",
      "<li class=\"post-stats__item\">\n",
      "<div class=\"post-stats__result\">\n",
      "<span class=\"post-stats__result-icon\">\n",
      "<svg class=\"icon-svg_votes\" height=\"16\" width=\"10\"><use xlink:href=\"https://habr.com/5f902e13/images/common-svg-sprite.svg#counter-rating\"></use></svg>\n",
      "</span>\n",
      "<span class=\"post-stats__result-counter voting-wjt__counter_positive\" title=\"Всего голосов 29: ↑21 и ↓8\">+13</span>\n",
      "</div>\n",
      "</li>\n",
      "<li class=\"post-stats__item post-stats__item_bookmark\">\n",
      "<button class=\"btn bookmark-btn bookmark-btn_post\" data-action=\"add\" data-id=\"523618\" data-post-type=\"publish_corp_ru,c_vdsina,h_546,h_17718,h_359,h_524,f_develop\" data-type=\"2\" disabled=\"\" onclick=\"posts_add_to_favorite(this);\" title=\"Только зарегистрированные пользователи могут добавлять публикации в закладки\" type=\"button\">\n",
      "<span class=\"btn_inner\"><svg class=\"icon-svg_bookmark\" height=\"16\" width=\"10\"><use xlink:href=\"https://habr.com/5f902e13/images/common-svg-sprite.svg#book\"></use></svg><span class=\"bookmark__counter js-favs_count\" title=\"Количество пользователей, добавивших публикацию в закладки\">18</span></span>\n",
      "</button>\n",
      "</li>\n",
      "<li class=\"post-stats__item post-stats__item_views\">\n",
      "<div class=\"post-stats__views\" title=\"Количество просмотров\">\n",
      "<svg class=\"icon-svg_views-count\" height=\"12\" width=\"21\"><use xlink:href=\"https://habr.com/5f902e13/images/common-svg-sprite.svg#eye\"></use></svg><span class=\"post-stats__views-count\">3,3k</span>\n",
      "</div>\n",
      "</li>\n",
      "<li class=\"post-stats__item post-stats__item_comments\">\n",
      "<a class=\"post-stats__comments-link\" href=\"https://habr.com/ru/company/vdsina/blog/523618/#comments\" rel=\"nofollow\">\n",
      "<svg class=\"icon-svg_post-comments\" height=\"16\" width=\"16\"><use xlink:href=\"https://habr.com/5f902e13/images/common-svg-sprite.svg#comment\"></use></svg><span class=\"post-stats__comments-count\" title=\"Читать комментарии\">42</span>\n",
      "</a>\n",
      "</li>\n",
      "</ul>\n",
      "</footer>\n",
      "</article>\n"
     ]
    }
   ],
   "source": [
    "print(posts[7])"
   ]
  },
  {
   "cell_type": "code",
   "execution_count": 104,
   "metadata": {},
   "outputs": [],
   "source": [
    "KEYWORDS = ['парсинг','исключения','CSS']"
   ]
  },
  {
   "cell_type": "code",
   "execution_count": 105,
   "metadata": {},
   "outputs": [],
   "source": [
    "search_post = pd.DataFrame()\n",
    "for i in posts:\n",
    "    for j in KEYWORDS:\n",
    "        if i.find(string=r.compile(j)):\n",
    "            date = i.find(class_='post__time').text\n",
    "            if 'сегодня' in date:\n",
    "                tmp_d = str(datetime.date(datetime.now()))\n",
    "                tmp_t = r.findall(r'\\d{2}:\\d{2}', date)\n",
    "                date = tmp_d + ' ' + str(tmp_t[0])\n",
    "            title = i.find('h2', class_='post__title').text\n",
    "            href = i.find('a', class_='post__title_link').get('href')\n",
    "            row = {'date': date, 'title': title, 'href': href}\n",
    "            search_post = search_post.append(pd.DataFrame([row])) \n",
    "        "
   ]
  },
  {
   "cell_type": "code",
   "execution_count": 106,
   "metadata": {},
   "outputs": [
    {
     "data": {
      "text/html": [
       "<div>\n",
       "<style scoped>\n",
       "    .dataframe tbody tr th:only-of-type {\n",
       "        vertical-align: middle;\n",
       "    }\n",
       "\n",
       "    .dataframe tbody tr th {\n",
       "        vertical-align: top;\n",
       "    }\n",
       "\n",
       "    .dataframe thead th {\n",
       "        text-align: right;\n",
       "    }\n",
       "</style>\n",
       "<table border=\"1\" class=\"dataframe\">\n",
       "  <thead>\n",
       "    <tr style=\"text-align: right;\">\n",
       "      <th></th>\n",
       "      <th>date</th>\n",
       "      <th>title</th>\n",
       "      <th>href</th>\n",
       "    </tr>\n",
       "  </thead>\n",
       "  <tbody>\n",
       "    <tr>\n",
       "      <th>0</th>\n",
       "      <td>2020-10-21 19:38</td>\n",
       "      <td>\\nКак я структурирую CSS\\n</td>\n",
       "      <td>https://habr.com/ru/post/523884/</td>\n",
       "    </tr>\n",
       "    <tr>\n",
       "      <th>0</th>\n",
       "      <td>2020-10-21 18:30</td>\n",
       "      <td>\\nЯ принес вам решение проблемы с исключениями...</td>\n",
       "      <td>https://habr.com/ru/company/vdsina/blog/523618/</td>\n",
       "    </tr>\n",
       "  </tbody>\n",
       "</table>\n",
       "</div>"
      ],
      "text/plain": [
       "               date                                              title  \\\n",
       "0  2020-10-21 19:38                         \\nКак я структурирую CSS\\n   \n",
       "0  2020-10-21 18:30  \\nЯ принес вам решение проблемы с исключениями...   \n",
       "\n",
       "                                              href  \n",
       "0                 https://habr.com/ru/post/523884/  \n",
       "0  https://habr.com/ru/company/vdsina/blog/523618/  "
      ]
     },
     "execution_count": 106,
     "metadata": {},
     "output_type": "execute_result"
    }
   ],
   "source": [
    "search_post.head()"
   ]
  },
  {
   "cell_type": "code",
   "execution_count": null,
   "metadata": {},
   "outputs": [],
   "source": []
  },
  {
   "cell_type": "markdown",
   "metadata": {},
   "source": [
    "Дополнительная часть (необязательная)\n",
    "Улучшить скрипт так, чтобы он анализировал не только preview-информацию статьи, но и весь текст статьи целиком.\n",
    "Для этого потребуется получать страницы статей и искать по тексту внутри этой страницы.\n",
    "Итоговый датафрейм формировать со столбцами: <дата> - <заголовок> - <ссылка> - <текст_статьи>"
   ]
  },
  {
   "cell_type": "code",
   "execution_count": 153,
   "metadata": {},
   "outputs": [],
   "source": [
    "KEYWORDS = ['парсинг','python']"
   ]
  },
  {
   "cell_type": "code",
   "execution_count": 154,
   "metadata": {},
   "outputs": [],
   "source": [
    "search_post = pd.DataFrame()\n",
    "for i in posts:\n",
    "    for j in KEYWORDS:\n",
    "        if i.find(string=r.compile(j)):\n",
    "            date = i.find(class_='post__time').text\n",
    "            if 'сегодня' in date:\n",
    "                tmp_d = str(datetime.date(datetime.now()))\n",
    "                tmp_t = r.findall(r'\\d{2}:\\d{2}', date)\n",
    "                date = tmp_d + ' ' + str(tmp_t[0])\n",
    "            title = i.find('h2', class_='post__title').text\n",
    "            href = i.find('a', class_='post__title_link').get('href')\n",
    "            tmp_h = i.find('a', class_='post__title_link').get('href')\n",
    "            req_2 = requests.get(tmp_h)\n",
    "            soup_2 = BeautifulSoup(req_2.text, 'html.parser')\n",
    "            text = soup_2.find_all(id=\"post-content-body\")\n",
    "            row = {'date': date, 'title': title, 'href': href, 'text': text}\n",
    "            search_post = search_post.append(pd.DataFrame([row])) \n",
    "        else:\n",
    "            tdate = i.find(class_='post__time').text\n",
    "            if 'сегодня' in date:\n",
    "                tmp_d = str(datetime.date(datetime.now()))\n",
    "                tmp_t = r.findall(r'\\d{2}:\\d{2}', date)\n",
    "                date = tmp_d + ' ' + str(tmp_t[0])\n",
    "            title = i.find('h2', class_='post__title').text\n",
    "            href = i.find('a', class_='post__title_link').get('href')\n",
    "            tmp_h = i.find('a', class_='post__title_link').get('href')\n",
    "            req_2 = requests.get(tmp_h)\n",
    "            soup_2 = BeautifulSoup(req_2.text, 'html.parser')\n",
    "            text = soup_2.find_all(id=\"post-content-body\")\n",
    "            if soup_2.find(string=r.compile(j)):\n",
    "                row = {'date': date, 'title': title, 'href': href, 'text': text}\n",
    "                search_post = search_post.append(pd.DataFrame([row]))"
   ]
  },
  {
   "cell_type": "code",
   "execution_count": 155,
   "metadata": {},
   "outputs": [
    {
     "data": {
      "text/html": [
       "<div>\n",
       "<style scoped>\n",
       "    .dataframe tbody tr th:only-of-type {\n",
       "        vertical-align: middle;\n",
       "    }\n",
       "\n",
       "    .dataframe tbody tr th {\n",
       "        vertical-align: top;\n",
       "    }\n",
       "\n",
       "    .dataframe thead th {\n",
       "        text-align: right;\n",
       "    }\n",
       "</style>\n",
       "<table border=\"1\" class=\"dataframe\">\n",
       "  <thead>\n",
       "    <tr style=\"text-align: right;\">\n",
       "      <th></th>\n",
       "      <th>date</th>\n",
       "      <th>title</th>\n",
       "      <th>href</th>\n",
       "      <th>text</th>\n",
       "    </tr>\n",
       "  </thead>\n",
       "  <tbody>\n",
       "    <tr>\n",
       "      <th>0</th>\n",
       "      <td>2020-10-21 18:30</td>\n",
       "      <td>\\nСпособы и примеры внедрения утилит для прове...</td>\n",
       "      <td>https://habr.com/ru/company/swordfish_security...</td>\n",
       "      <td>[[[], [], \\r\\nПривет, Хабр!, [], \\n, [], \\r\\nВ...</td>\n",
       "    </tr>\n",
       "    <tr>\n",
       "      <th>0</th>\n",
       "      <td>2020-10-21 18:30</td>\n",
       "      <td>\\nУмное зеркало своими руками\\n</td>\n",
       "      <td>https://habr.com/ru/company/ruvds/blog/524166/</td>\n",
       "      <td>[[Кому нужно умное зеркало? Много кому. Я, ког...</td>\n",
       "    </tr>\n",
       "    <tr>\n",
       "      <th>0</th>\n",
       "      <td>2020-10-21 18:30</td>\n",
       "      <td>\\nКак стать кросс-функциональной командой\\n</td>\n",
       "      <td>https://habr.com/ru/company/oleg-bunin/blog/34...</td>\n",
       "      <td>[[DevOps обычно рассматривается в двух ипостас...</td>\n",
       "    </tr>\n",
       "  </tbody>\n",
       "</table>\n",
       "</div>"
      ],
      "text/plain": [
       "               date                                              title  \\\n",
       "0  2020-10-21 18:30  \\nСпособы и примеры внедрения утилит для прове...   \n",
       "0  2020-10-21 18:30                    \\nУмное зеркало своими руками\\n   \n",
       "0  2020-10-21 18:30        \\nКак стать кросс-функциональной командой\\n   \n",
       "\n",
       "                                                href  \\\n",
       "0  https://habr.com/ru/company/swordfish_security...   \n",
       "0     https://habr.com/ru/company/ruvds/blog/524166/   \n",
       "0  https://habr.com/ru/company/oleg-bunin/blog/34...   \n",
       "\n",
       "                                                text  \n",
       "0  [[[], [], \\r\\nПривет, Хабр!, [], \\n, [], \\r\\nВ...  \n",
       "0  [[Кому нужно умное зеркало? Много кому. Я, ког...  \n",
       "0  [[DevOps обычно рассматривается в двух ипостас...  "
      ]
     },
     "execution_count": 155,
     "metadata": {},
     "output_type": "execute_result"
    }
   ],
   "source": [
    "search_post.head()"
   ]
  },
  {
   "cell_type": "code",
   "execution_count": null,
   "metadata": {},
   "outputs": [],
   "source": []
  },
  {
   "cell_type": "markdown",
   "metadata": {},
   "source": [
    "Задание 2.\n",
    "Обязательная часть\n",
    "Написать скрипт, который будет проверять список e-mail адресов на утечку при помощи сервиса Avast Hack Ckeck. Список email-ов задаем переменной в начале кода:\n",
    "EMAIL = [xxx@x.ru, yyy@y.com]\n",
    "В итоге должен формироваться датафрейм со столбцами: <почта> - <дата утечки> - <источник утечки> - <описание утечки>\n",
    "Подсказка: сервис работает при помощи \"скрытого\" API. Внимательно изучите post-запросы."
   ]
  },
  {
   "cell_type": "code",
   "execution_count": 1,
   "metadata": {},
   "outputs": [],
   "source": [
    "import json"
   ]
  },
  {
   "cell_type": "code",
   "execution_count": 5,
   "metadata": {},
   "outputs": [],
   "source": [
    "URL = 'https://identityprotection.avast.com/v1/web/query/site-breaches/unauthorized-data'\n",
    "\n",
    "header = {\n",
    "    'Vaar-Version': '0',\n",
    "    'Vaar-Header-App-Product': 'hackcheck-web-avast'\n",
    "}"
   ]
  },
  {
   "cell_type": "code",
   "execution_count": 6,
   "metadata": {},
   "outputs": [],
   "source": [
    "EMAIL = ['xxx@x.ru', 'yyy@y.com' , 'davidoff_max_min@ya.ru']"
   ]
  },
  {
   "cell_type": "code",
   "execution_count": 17,
   "metadata": {},
   "outputs": [],
   "source": [
    "search_email = pd.DataFrame()\n",
    "for i in EMAIL:\n",
    "    params = {\n",
    "        'emailAddresses' : [i]\n",
    "    }\n",
    "    res = requests.post(URL, data = json.dumps(params), headers = header)\n",
    "    tmp = json.loads(res.text)\n",
    "    for j,k in tmp.items():\n",
    "        if j == 'breaches':\n",
    "            for l in k.values():\n",
    "                tmp_date = l['publishDate']\n",
    "                row_2 = {'email': i, 'date': tmp_date[:10], 'source': l['site'], 'description': l['description']}\n",
    "                search_email = search_email.append(pd.DataFrame([row_2]))\n",
    "\n"
   ]
  },
  {
   "cell_type": "code",
   "execution_count": 18,
   "metadata": {},
   "outputs": [
    {
     "data": {
      "text/html": [
       "<div>\n",
       "<style scoped>\n",
       "    .dataframe tbody tr th:only-of-type {\n",
       "        vertical-align: middle;\n",
       "    }\n",
       "\n",
       "    .dataframe tbody tr th {\n",
       "        vertical-align: top;\n",
       "    }\n",
       "\n",
       "    .dataframe thead th {\n",
       "        text-align: right;\n",
       "    }\n",
       "</style>\n",
       "<table border=\"1\" class=\"dataframe\">\n",
       "  <thead>\n",
       "    <tr style=\"text-align: right;\">\n",
       "      <th></th>\n",
       "      <th>email</th>\n",
       "      <th>date</th>\n",
       "      <th>source</th>\n",
       "      <th>description</th>\n",
       "    </tr>\n",
       "  </thead>\n",
       "  <tbody>\n",
       "    <tr>\n",
       "      <th>0</th>\n",
       "      <td>xxx@x.ru</td>\n",
       "      <td>2017-02-14</td>\n",
       "      <td>parapa.mail.ru</td>\n",
       "      <td>In July and August 2016, two criminals execute...</td>\n",
       "    </tr>\n",
       "    <tr>\n",
       "      <th>0</th>\n",
       "      <td>xxx@x.ru</td>\n",
       "      <td>2016-10-29</td>\n",
       "      <td>vk.com</td>\n",
       "      <td>Popular Russian social networking platform VKo...</td>\n",
       "    </tr>\n",
       "    <tr>\n",
       "      <th>0</th>\n",
       "      <td>xxx@x.ru</td>\n",
       "      <td>2016-10-21</td>\n",
       "      <td>adobe.com</td>\n",
       "      <td>In October of 2013, criminals penetrated Adobe...</td>\n",
       "    </tr>\n",
       "    <tr>\n",
       "      <th>0</th>\n",
       "      <td>xxx@x.ru</td>\n",
       "      <td>2017-02-14</td>\n",
       "      <td>cfire.mail.ru</td>\n",
       "      <td>In July and August of 2016, two criminals carr...</td>\n",
       "    </tr>\n",
       "    <tr>\n",
       "      <th>0</th>\n",
       "      <td>xxx@x.ru</td>\n",
       "      <td>2017-01-31</td>\n",
       "      <td>cdprojektred.com</td>\n",
       "      <td>In March 2016, CDProjektRed.com.com's forum da...</td>\n",
       "    </tr>\n",
       "    <tr>\n",
       "      <th>0</th>\n",
       "      <td>xxx@x.ru</td>\n",
       "      <td>2016-10-23</td>\n",
       "      <td>imesh.com</td>\n",
       "      <td>In June 2016, a cache of over 51 million user ...</td>\n",
       "    </tr>\n",
       "    <tr>\n",
       "      <th>0</th>\n",
       "      <td>yyy@y.com</td>\n",
       "      <td>2020-01-03</td>\n",
       "      <td>azcentral.com</td>\n",
       "      <td>At an unconfirmed date, online Arizona newspap...</td>\n",
       "    </tr>\n",
       "    <tr>\n",
       "      <th>0</th>\n",
       "      <td>yyy@y.com</td>\n",
       "      <td>2020-05-28</td>\n",
       "      <td>wishbone.io</td>\n",
       "      <td>In January 2020, the online poll website Wishb...</td>\n",
       "    </tr>\n",
       "    <tr>\n",
       "      <th>0</th>\n",
       "      <td>yyy@y.com</td>\n",
       "      <td>2017-11-04</td>\n",
       "      <td>myheritage.com</td>\n",
       "      <td>In October 2017, a customer database belonging...</td>\n",
       "    </tr>\n",
       "    <tr>\n",
       "      <th>0</th>\n",
       "      <td>yyy@y.com</td>\n",
       "      <td>2019-06-13</td>\n",
       "      <td>canva.com</td>\n",
       "      <td>In May 2019, graphic-design site Canva's datab...</td>\n",
       "    </tr>\n",
       "  </tbody>\n",
       "</table>\n",
       "</div>"
      ],
      "text/plain": [
       "       email        date            source  \\\n",
       "0   xxx@x.ru  2017-02-14    parapa.mail.ru   \n",
       "0   xxx@x.ru  2016-10-29            vk.com   \n",
       "0   xxx@x.ru  2016-10-21         adobe.com   \n",
       "0   xxx@x.ru  2017-02-14     cfire.mail.ru   \n",
       "0   xxx@x.ru  2017-01-31  cdprojektred.com   \n",
       "0   xxx@x.ru  2016-10-23         imesh.com   \n",
       "0  yyy@y.com  2020-01-03     azcentral.com   \n",
       "0  yyy@y.com  2020-05-28       wishbone.io   \n",
       "0  yyy@y.com  2017-11-04    myheritage.com   \n",
       "0  yyy@y.com  2019-06-13         canva.com   \n",
       "\n",
       "                                         description  \n",
       "0  In July and August 2016, two criminals execute...  \n",
       "0  Popular Russian social networking platform VKo...  \n",
       "0  In October of 2013, criminals penetrated Adobe...  \n",
       "0  In July and August of 2016, two criminals carr...  \n",
       "0  In March 2016, CDProjektRed.com.com's forum da...  \n",
       "0  In June 2016, a cache of over 51 million user ...  \n",
       "0  At an unconfirmed date, online Arizona newspap...  \n",
       "0  In January 2020, the online poll website Wishb...  \n",
       "0  In October 2017, a customer database belonging...  \n",
       "0  In May 2019, graphic-design site Canva's datab...  "
      ]
     },
     "execution_count": 18,
     "metadata": {},
     "output_type": "execute_result"
    }
   ],
   "source": [
    "search_email.head(10)"
   ]
  },
  {
   "cell_type": "code",
   "execution_count": null,
   "metadata": {},
   "outputs": [],
   "source": []
  }
 ],
 "metadata": {
  "kernelspec": {
   "display_name": "Python 3",
   "language": "python",
   "name": "python3"
  },
  "language_info": {
   "codemirror_mode": {
    "name": "ipython",
    "version": 3
   },
   "file_extension": ".py",
   "mimetype": "text/x-python",
   "name": "python",
   "nbconvert_exporter": "python",
   "pygments_lexer": "ipython3",
   "version": "3.8.3"
  }
 },
 "nbformat": 4,
 "nbformat_minor": 4
}
