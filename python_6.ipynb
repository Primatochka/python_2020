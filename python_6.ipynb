{
 "cells": [
  {
   "cell_type": "markdown",
   "metadata": {},
   "source": [
    "Задание 1\n",
    "Печатные газеты использовали свой формат дат для каждого выпуска. Для каждой газеты из списка напишите формат указанной даты для перевода в объект datetime:\n",
    "The Moscow Times - Wednesday, October 2, 2002\n",
    "The Guardian - Friday, 11.10.13\n",
    "Daily News - Thursday, 18 August 1977"
   ]
  },
  {
   "cell_type": "code",
   "execution_count": 61,
   "metadata": {},
   "outputs": [],
   "source": [
    "moscow_time = 'Wednesday, October 2, 2002'\n",
    "guardian_time = 'Friday, 11.10.13'\n",
    "dailyn_time = 'Thursday, 18 August 1977'"
   ]
  },
  {
   "cell_type": "code",
   "execution_count": 62,
   "metadata": {},
   "outputs": [],
   "source": [
    "from datetime import datetime as dt\n",
    "from datetime import timedelta"
   ]
  },
  {
   "cell_type": "code",
   "execution_count": 63,
   "metadata": {},
   "outputs": [
    {
     "name": "stdout",
     "output_type": "stream",
     "text": [
      "2002-10-02\n",
      "2013-10-11\n",
      "1977-08-18\n"
     ]
    }
   ],
   "source": [
    "mt = dt.strptime(moscow_time, '%A, %B %d, %Y').date()\n",
    "gt = dt.strptime(guardian_time, '%A, %d.%m.%y').date()\n",
    "dnt = dt.strptime(dailyn_time, '%A, %d %B %Y').date()\n",
    "print(mt)\n",
    "print(gt)\n",
    "print(dnt)"
   ]
  },
  {
   "cell_type": "markdown",
   "metadata": {},
   "source": [
    "Задание 2\n",
    "Дан поток дат в формате YYYY-MM-DD, в которых встречаются некорректные значения:\n",
    "stream = [‘2018-04-02’, ‘2018-02-29’, ‘2018-19-02’]\n",
    "Напишите функцию, которая проверяет эти даты на корректность. Т. е. для каждой даты возвращает True (дата корректна) или False (некорректная дата)."
   ]
  },
  {
   "cell_type": "code",
   "execution_count": 19,
   "metadata": {},
   "outputs": [],
   "source": [
    "stream = ['2018-04-02', '2018-02-29', '2018-19-02', '2019-02-28', '1111-11-11']"
   ]
  },
  {
   "cell_type": "code",
   "execution_count": 31,
   "metadata": {},
   "outputs": [],
   "source": [
    "def check_date (stream_1):\n",
    "    try:\n",
    "        dt.strptime(stream_1, '%Y-%m-%d')\n",
    "        return True\n",
    "    except ValueError:\n",
    "        return False"
   ]
  },
  {
   "cell_type": "code",
   "execution_count": 32,
   "metadata": {},
   "outputs": [
    {
     "name": "stdout",
     "output_type": "stream",
     "text": [
      "2018-04-02 - True\n",
      "2018-02-29 - False\n",
      "2018-19-02 - False\n",
      "2019-02-28 - True\n",
      "1111-11-11 - True\n"
     ]
    }
   ],
   "source": [
    "for i in stream:\n",
    "    print(f'{i} - {check_date(i)}')"
   ]
  },
  {
   "cell_type": "markdown",
   "metadata": {},
   "source": [
    "Задание 3\n",
    "Напишите функцию date_range, которая возвращает список дат за период от start_date до end_date. Даты должны вводиться в формате YYYY-MM-DD. В случае неверного формата или при start_date > end_date должен возвращаться пустой список."
   ]
  },
  {
   "cell_type": "code",
   "execution_count": 75,
   "metadata": {},
   "outputs": [],
   "source": [
    "def date_range (start_date,end_date):\n",
    "    dr_list = []\n",
    "    try:\n",
    "        sd = dt.strptime(start_date, '%Y-%m-%d')\n",
    "        ed = dt.strptime(end_date, '%Y-%m-%d')\n",
    "    except ValueError:\n",
    "        return dr_list\n",
    "    if start_date > end_date:\n",
    "            return dr_list\n",
    "    while  sd <= ed:\n",
    "        dr_list.append(sd.strftime('%Y-%m-%d'))\n",
    "        sd += timedelta(days=1)\n",
    "    return dr_list"
   ]
  },
  {
   "cell_type": "code",
   "execution_count": 76,
   "metadata": {},
   "outputs": [
    {
     "name": "stdout",
     "output_type": "stream",
     "text": [
      "['2020-01-01', '2020-01-02', '2020-01-03', '2020-01-04', '2020-01-05', '2020-01-06', '2020-01-07', '2020-01-08', '2020-01-09', '2020-01-10', '2020-01-11', '2020-01-12', '2020-01-13', '2020-01-14', '2020-01-15', '2020-01-16', '2020-01-17', '2020-01-18', '2020-01-19', '2020-01-20', '2020-01-21', '2020-01-22', '2020-01-23', '2020-01-24', '2020-01-25', '2020-01-26', '2020-01-27', '2020-01-28', '2020-01-29', '2020-01-30', '2020-01-31', '2020-02-01']\n"
     ]
    }
   ],
   "source": [
    "start_date = '2020-01-01'\n",
    "end_date = '2020-02-01'\n",
    "\n",
    "print(date_range(start_date,end_date))"
   ]
  },
  {
   "cell_type": "code",
   "execution_count": null,
   "metadata": {},
   "outputs": [],
   "source": []
  }
 ],
 "metadata": {
  "kernelspec": {
   "display_name": "Python 3",
   "language": "python",
   "name": "python3"
  },
  "language_info": {
   "codemirror_mode": {
    "name": "ipython",
    "version": 3
   },
   "file_extension": ".py",
   "mimetype": "text/x-python",
   "name": "python",
   "nbconvert_exporter": "python",
   "pygments_lexer": "ipython3",
   "version": "3.8.3"
  }
 },
 "nbformat": 4,
 "nbformat_minor": 4
}
